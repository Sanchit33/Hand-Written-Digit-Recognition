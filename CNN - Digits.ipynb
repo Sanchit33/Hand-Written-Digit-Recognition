{
 "cells": [
  {
   "cell_type": "code",
   "execution_count": null,
   "id": "82b2a9d3",
   "metadata": {},
   "outputs": [
    {
     "name": "stdout",
     "output_type": "stream",
     "text": [
      "Epoch 1/12\n",
      "469/469 [==============================] - 348s 738ms/step - loss: 2.2837 - accuracy: 0.1481 - val_loss: 2.2462 - val_accuracy: 0.3441\n",
      "Epoch 2/12\n",
      "469/469 [==============================] - 592s 1s/step - loss: 2.2291 - accuracy: 0.2659 - val_loss: 2.1787 - val_accuracy: 0.4596\n",
      "Epoch 3/12\n",
      "393/469 [========================>.....] - ETA: 58s - loss: 2.1658 - accuracy: 0.3546"
     ]
    }
   ],
   "source": [
    "import keras \n",
    "from keras.datasets import mnist \n",
    "from keras.models import Sequential \n",
    "from keras.layers import Dense, Dropout, Flatten \n",
    "from keras.layers import Conv2D, MaxPooling2D \n",
    "from keras.utils import np_utils\n",
    "from keras import backend as K \n",
    "import numpy as np\n",
    "import tensorflow\n",
    "(x_train, y_train), (x_test, y_test) = mnist.load_data()\n",
    "img_rows, img_cols = 28, 28 \n",
    "if  K.image_data_format()=='channels_first': \n",
    "    x_train=x_train.reshape(x_train.shape[0],1,img_rows,img_cols) \n",
    "    x_test=x_test.reshape(x_test.shape[0],1,img_rows,img_cols) \n",
    "    input_shape=(1,img_rows,img_cols) \n",
    "else: \n",
    "    x_train = x_train.reshape(x_train.shape[0], img_rows, img_cols, 1)\n",
    "    x_test=x_test.reshape(x_test.shape[0], img_rows, img_cols, 1) \n",
    "    input_shape = (img_rows, img_cols, 1) \n",
    "\n",
    "x_train = x_train.astype('float32') \n",
    "x_test = x_test.astype('float32') \n",
    "x_train /= 255 \n",
    "x_test /= 255 \n",
    "y_train = keras.utils.np_utils.to_categorical(y_train, 10) \n",
    "y_test = keras.utils.np_utils.to_categorical(y_test, 10)\n",
    "model = Sequential() \n",
    "model.add(Conv2D(32, kernel_size = (3, 3), activation = 'relu', input_shape = input_shape)) \n",
    "model.add(Conv2D(64, (3, 3), activation = 'relu'))\n",
    "model.add(MaxPooling2D(pool_size = (2, 2)))\n",
    "model.add(Dropout(0.25)) \n",
    "model.add(Flatten())\n",
    "model.add(Dense(128, activation = 'relu'))\n",
    "model.add(Dropout(0.5)) \n",
    "model.add(Dense(10, activation = 'softmax'))\n",
    "model.compile(loss=keras.losses.categorical_crossentropy, optimizer = tensorflow.keras.optimizers.Adadelta(), metrics = ['accuracy'])\n",
    "model.fit( \n",
    "        x_train, y_train,\n",
    "        batch_size = 128, \n",
    "        epochs = 12, \n",
    "        verbose = 1,\n",
    "        validation_data = (x_test, y_test) )\n",
    "score = model.evaluate(x_test, y_test, verbose = 0) \n",
    "print('Test loss:', score[0]) \n",
    "print('Test accuracy:', score[1])\n",
    "pred = model.predict(x_test) \n",
    "pred = np.argmax(pred, axis = 1)[:5] \n",
    "label = np.argmax(y_test,axis = 1)[:5]\n",
    "print(pred) \n",
    "print(label)\n"
   ]
  },
  {
   "cell_type": "code",
   "execution_count": null,
   "id": "5db13bee",
   "metadata": {},
   "outputs": [],
   "source": []
  }
 ],
 "metadata": {
  "kernelspec": {
   "display_name": "Python 3",
   "language": "python",
   "name": "python3"
  },
  "language_info": {
   "codemirror_mode": {
    "name": "ipython",
    "version": 3
   },
   "file_extension": ".py",
   "mimetype": "text/x-python",
   "name": "python",
   "nbconvert_exporter": "python",
   "pygments_lexer": "ipython3",
   "version": "3.8.8"
  }
 },
 "nbformat": 4,
 "nbformat_minor": 5
}
